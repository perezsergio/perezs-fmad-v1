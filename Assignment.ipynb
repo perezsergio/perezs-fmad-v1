{
 "cells": [
  {
   "cell_type": "markdown",
   "id": "7dfd2619",
   "metadata": {},
   "source": [
    "### <img src='./fig/vertical_COMILLAS_COLOR.jpg' style= 'width:70mm'>\n",
    "\n",
    "<h1 style='font-family: Optima;color:#ecac00'>\n",
    "Máster en Big Data. Tecnología y Analítica Avanzada (MBD).\n",
    "<a class=\"tocSkip\">\n",
    "</h1>\n",
    "\n",
    "<h1 style='font-family: Optima;color:#ecac00'>\n",
    "Introducción al Análisis Estadístico con Lenguajes de Programación para Machine Learning (IAELPML). 2023-2024.\n",
    "</h1>\n",
    "\n",
    "\n",
    "<h1 style='font-family: Optima;color:#ecac00'>\n",
    "Assignment\n",
    "<a class=\"tocSkip\">    \n",
    "</h1>  \n",
    "   \n",
    "\n",
    "<h1 style='font-family: Optima;color:red'>\n",
    "Due Date: 2023-09-21\n",
    "<a class=\"tocSkip\">    \n",
    "</h1>  \n",
    "\n",
    "    \n",
    "    "
   ]
  },
  {
   "cell_type": "markdown",
   "id": "0889f0f5",
   "metadata": {},
   "source": [
    "# Enter your name here:"
   ]
  },
  {
   "cell_type": "markdown",
   "id": "8970b385",
   "metadata": {},
   "source": [
    "# Preliminaries\n",
    "\n",
    "+ You are expected to submit your answers using the Jupyter notebook format. You can use this notebook as a template, but make sure to add your personal information (name and email) at the top of the notebook\n",
    "\n",
    "+ If you want to include additional files (data, scripts, figures, etc.) create a zip file containing all the files and email that file to us. \n",
    "\n",
    "# Questions\n",
    "\n",
    "+ We will be using the data in the file  `frami.csv`, that you can downoload using this link:  \n",
    "  [frami.csv](https://gist.github.com/fsansegundo/7e57395e6401914259beec584bf73fa7)  \n",
    "  Be careful: it is similar but not exactly equal to the Framingham data set we have seen in class.\n",
    "\n",
    "+ Load the data set into a pandas DataFrame called `frami`.\n",
    "\n",
    "+ Gather some basic information about the data set: how many observations are there, what are the variables and their types,...\n",
    "\n",
    "+ Check for missing data. If there are any, first obtain the row numbers and variables in which they appear. Then remove those rows from the table. Make sure to rename the resulting table (after the removal) again as `frami` and use this table to answer the following questions. \n",
    "\n",
    "+ If there are factor variables in the table convert them to the appropriate Python type.\n",
    "\n",
    "+ Perform a detailed exploratory analysis of a selection of variables of your choice. This analysis should cover all the types of variables in this table. That is, you should at least study one variable for each type of variable present in the table (but you don't need to study all the variables). The analysis should contain:\n",
    "  - For quantitative variables (continuous or discrete):  \n",
    "    - Basic numeric summary (mean, median, quartiles, sd).  \n",
    "    - Graphics (the right ones for that type of data, possibly more than one graph per variable).  \n",
    "  - For factors :  \n",
    "    - Frecuency tables (absolute and relative).  \n",
    "    - Graphics (bar plot).  \n",
    "\n",
    "\n",
    "+ Create a new column called `ageGroup` dividing (binning) age in these three levels:\n",
    "  ```\n",
    "    (0,40], (40,55], (55,100]\n",
    "  ```\n",
    "\n",
    "+ Find out how many observations are there for each level of `ageGroup`. Now, using only observations corresponding to women, , what is the mean of cholesterol level `totChol` for each of those age groups?\n",
    "\n",
    "+ Let us analyze the *possible* relation between gender (variable `male`) and `currentSmoker`). Do a graphical analysis of that relation and compute the 2x2 contingency table (with marginal probabilities)) for these two factors.\n",
    "\n",
    "+ Use Python to compute the following probabilities.  \n",
    "\n",
    "  + What is the probability that a current smoker (selected at random from the table) be a woman? \n",
    "\n",
    "  + What is the probability that a man be a current smoker?\n",
    "\n",
    "  + What is the probability that a randomly chosen person be a smoker? And the probability of being simultaneously man and smoker?\n",
    "\n",
    "+ If we choose a sample of 10 persons out of this table (random sampling with replacement), what is the probability that exactly 4 of them are smokers? What is the probability that at most 4 of the 10 persons are smokers?\n",
    "\n",
    "+ Run a simulation using Python to confirm your results of the previous question. That is, take $N = 100000$ samples of size $10$ from the table and use them to obtain an estimate of the requested probabilities. Use the random number generator features to make your simulation code reproducible; that is, when we run your code we should get exactly the same results. \n",
    "\n"
   ]
  },
  {
   "cell_type": "markdown",
   "id": "829123a4",
   "metadata": {},
   "source": []
  }
 ],
 "metadata": {
  "kernelspec": {
   "display_name": "Python 3 (ipykernel)",
   "language": "python",
   "name": "python3"
  },
  "language_info": {
   "codemirror_mode": {
    "name": "ipython",
    "version": 3
   },
   "file_extension": ".py",
   "mimetype": "text/x-python",
   "name": "python",
   "nbconvert_exporter": "python",
   "pygments_lexer": "ipython3",
   "version": "3.8.13"
  }
 },
 "nbformat": 4,
 "nbformat_minor": 5
}
